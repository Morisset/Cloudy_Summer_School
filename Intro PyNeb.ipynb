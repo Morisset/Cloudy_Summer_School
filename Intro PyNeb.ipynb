{
 "cells": [
  {
   "cell_type": "code",
   "execution_count": null,
   "metadata": {
    "collapsed": true
   },
   "outputs": [],
   "source": [
    "import numpy as np\n",
    "import matplotlib.pyplot as plt\n",
    "%matplotlib inline\n",
    "import pyneb as pn"
   ]
  },
  {
   "cell_type": "code",
   "execution_count": null,
   "metadata": {
    "collapsed": false
   },
   "outputs": [],
   "source": [
    "print(pn.__version__)"
   ]
  },
  {
   "cell_type": "markdown",
   "metadata": {},
   "source": [
    "Have a look at the web page: https://github.com/Morisset/PyNeb_devel\n",
    "\n",
    "Manuals: https://github.com/Morisset/PyNeb_devel/tree/master/docs\n",
    "\n",
    "Reference page: https://morisset.github.io/PyNeb_Manual/html/index.html"
   ]
  },
  {
   "cell_type": "markdown",
   "metadata": {},
   "source": [
    "# The Atom object"
   ]
  },
  {
   "cell_type": "code",
   "execution_count": null,
   "metadata": {
    "collapsed": false
   },
   "outputs": [],
   "source": [
    "O3 = pn.Atom('O',3)\n",
    "print(O3)"
   ]
  },
  {
   "cell_type": "code",
   "execution_count": null,
   "metadata": {
    "collapsed": true
   },
   "outputs": [],
   "source": [
    "#O3.TAB"
   ]
  },
  {
   "cell_type": "code",
   "execution_count": null,
   "metadata": {
    "collapsed": false
   },
   "outputs": [],
   "source": [
    "f, ax = plt.subplots(figsize=(10,10))\n",
    "O3.plotGrotrian(ax=ax)"
   ]
  },
  {
   "cell_type": "code",
   "execution_count": null,
   "metadata": {
    "collapsed": false
   },
   "outputs": [],
   "source": [
    "O3.printIonic(tem=1e4, den=1e2)"
   ]
  },
  {
   "cell_type": "code",
   "execution_count": null,
   "metadata": {
    "collapsed": false
   },
   "outputs": [],
   "source": [
    "S2 = pn.Atom('S',2, NLevels=5)\n",
    "print(S2)"
   ]
  },
  {
   "cell_type": "markdown",
   "metadata": {},
   "source": [
    "## Diagnostic line ratios"
   ]
  },
  {
   "cell_type": "code",
   "execution_count": null,
   "metadata": {
    "collapsed": false
   },
   "outputs": [],
   "source": [
    "f, ax = plt.subplots(figsize=(10,10))\n",
    "S2.plotGrotrian(ax=ax)"
   ]
  },
  {
   "cell_type": "code",
   "execution_count": null,
   "metadata": {
    "collapsed": false
   },
   "outputs": [],
   "source": [
    "den = np.logspace(1, 6, 100)\n",
    "print(den)"
   ]
  },
  {
   "cell_type": "code",
   "execution_count": null,
   "metadata": {
    "collapsed": false
   },
   "outputs": [],
   "source": [
    "f, ax = plt.subplots(figsize=(10,10))\n",
    "E_6730 = S2.getEmissivity(tem=1e4, den=den, wave=6730)\n",
    "E_6716 = S2.getEmissivity(tem=1e4, den=den, wave=6716)\n",
    "ax.plot(np.log10(den), E_6716/E_6730, label='Te = 10,000K')\n",
    "E_6730b = S2.getEmissivity(tem=1.5e4, den=den, wave=6730)\n",
    "E_6716b = S2.getEmissivity(tem=1.5e4, den=den, wave=6716)\n",
    "ax.plot(np.log10(den), E_6716b/E_6730b, label='Te = 15,000K')\n",
    "ax.set_xlabel('log(Ne) [cm-3]')\n",
    "ax.set_ylabel(r'[SII]6716/6730$\\AA$')\n",
    "ax.legend(loc='best')"
   ]
  },
  {
   "cell_type": "code",
   "execution_count": null,
   "metadata": {
    "collapsed": false
   },
   "outputs": [],
   "source": [
    "f, ax = plt.subplots(figsize=(10,10))\n",
    "O3.plotGrotrian(ax=ax)"
   ]
  },
  {
   "cell_type": "code",
   "execution_count": null,
   "metadata": {
    "collapsed": false
   },
   "outputs": [],
   "source": [
    "tem = np.linspace(5000, 20000, 100)\n",
    "E_5007 = O3.getEmissivity(tem=tem, den=1e2, wave=5007)\n",
    "E_4363 = O3.getEmissivity(tem=tem, den=1e2, wave=4363)\n",
    "E_5007b = O3.getEmissivity(tem=tem, den=1e5, wave=5007)\n",
    "E_4363b = O3.getEmissivity(tem=tem, den=1e5, wave=4363)\n",
    "f, ax = plt.subplots(figsize=(10,10))\n",
    "ax.plot(tem, np.log10(E_4363/E_5007), label=r'Ne = 10$^2$ cm$^{-3}$')\n",
    "ax.plot(tem, np.log10(E_4363b/E_5007b), label=r'Ne = 10$^5$ cm$^{-3}$')\n",
    "ax.set_xlabel('Te [K]')\n",
    "ax.set_ylabel(r'log [OIII]4363/5007$\\AA$')\n",
    "ax.legend(loc='best')"
   ]
  },
  {
   "cell_type": "code",
   "execution_count": null,
   "metadata": {
    "collapsed": true
   },
   "outputs": [],
   "source": [
    "O3_EG = pn.EmisGrid('O', 3)"
   ]
  },
  {
   "cell_type": "code",
   "execution_count": null,
   "metadata": {
    "collapsed": false
   },
   "outputs": [],
   "source": [
    "f, ax = plt.subplots(figsize=(10,10))\n",
    "O3_EG.plotContours(to_eval = 'L(4363)/L(5007)', ax=ax)"
   ]
  },
  {
   "cell_type": "markdown",
   "metadata": {},
   "source": [
    "## Atomic data"
   ]
  },
  {
   "cell_type": "code",
   "execution_count": null,
   "metadata": {
    "collapsed": false
   },
   "outputs": [],
   "source": [
    "O3"
   ]
  },
  {
   "cell_type": "code",
   "execution_count": null,
   "metadata": {
    "collapsed": false
   },
   "outputs": [],
   "source": [
    "pn.atomicData.getAllAvailableFiles('O3')"
   ]
  },
  {
   "cell_type": "code",
   "execution_count": null,
   "metadata": {
    "collapsed": true
   },
   "outputs": [],
   "source": [
    "pn.atomicData.setDataFile( 'o_iii_coll_Pal12-AK99.dat')\n",
    "O3P = pn.Atom('O',3)"
   ]
  },
  {
   "cell_type": "code",
   "execution_count": null,
   "metadata": {
    "collapsed": false
   },
   "outputs": [],
   "source": [
    "pn.atomicData.resetDataFileDict()"
   ]
  },
  {
   "cell_type": "code",
   "execution_count": null,
   "metadata": {
    "collapsed": false
   },
   "outputs": [],
   "source": [
    "tem = np.linspace(5000, 20000, 100)\n",
    "E_5007 = O3.getEmissivity(tem=tem, den=1e2, wave=5007)\n",
    "E_4363 = O3.getEmissivity(tem=tem, den=1e2, wave=4363)\n",
    "E_5007P = O3P.getEmissivity(tem=tem, den=1e2, wave=5007)\n",
    "E_4363P = O3P.getEmissivity(tem=tem, den=1e2, wave=4363)\n",
    "f, ax = plt.subplots(figsize=(10,10))\n",
    "ax.plot(tem, np.log10(E_4363/E_5007), label=r'Storey 2014')\n",
    "ax.plot(tem, np.log10(E_4363P/E_5007P), label=r'Palay 2012')\n",
    "ax.set_xlabel('Te [K]')\n",
    "ax.set_ylabel(r'log [OIII]4363/5007$\\AA$')\n",
    "ax.legend(loc='best')"
   ]
  },
  {
   "cell_type": "markdown",
   "metadata": {},
   "source": [
    "## Recombination lines"
   ]
  },
  {
   "cell_type": "code",
   "execution_count": null,
   "metadata": {
    "collapsed": true
   },
   "outputs": [],
   "source": [
    "h1 = pn.RecAtom('H',1)\n",
    "he1 = pn.RecAtom('He',1)"
   ]
  },
  {
   "cell_type": "code",
   "execution_count": null,
   "metadata": {
    "collapsed": true
   },
   "outputs": [],
   "source": [
    "tem = np.linspace(5000, 20000, 100)\n",
    "den = 1e3\n",
    "\n",
    "hb = h1.getEmissivity(tem, den, label='4_2')\n",
    "he1_4471 = he1.getEmissivity(tem, 1e4, label='4471.0')\n",
    "he1_6678 = he1.getEmissivity(tem, 1e4, label='6678.0')\n",
    "he1_7065 = he1.getEmissivity(tem, 1e4, label='7065.0')"
   ]
  },
  {
   "cell_type": "code",
   "execution_count": null,
   "metadata": {
    "collapsed": false
   },
   "outputs": [],
   "source": [
    "f, ax = plt.subplots(figsize=(10,10))\n",
    "\n",
    "ax.plot(tem, he1_4471/hb, label='4471')\n",
    "ax.plot(tem, he1_6678/hb, label='6678')\n",
    "ax.plot(tem, he1_7065/hb, label='7065')\n",
    "ax.legend()\n",
    "ax.set_xlabel('Te')\n",
    "ax.set_ylabel(r'emissivities relative to H$\\beta$ (He/H=1)')"
   ]
  },
  {
   "cell_type": "markdown",
   "metadata": {},
   "source": [
    "## Diagnostic diagrams"
   ]
  },
  {
   "cell_type": "code",
   "execution_count": null,
   "metadata": {
    "collapsed": false
   },
   "outputs": [],
   "source": [
    "%%writefile observations1.dat\n",
    "LINE SMC_24\n",
    "S4_10.5m   7.00000\n",
    "Ne2_12.8m  8.3000\n",
    "Ne3_15.6m 34.10\n",
    "S3_18.7m  10.\n",
    "O2_3726A  39.700\n",
    "O2_3729A  18.600\n",
    "Ne3_3869A 18.90\n",
    "S2_4069A   0.85\n",
    "S2_4076A   0.450\n",
    "O3_4363A   4.36\n",
    "He2r_4686A 0.00\n",
    "H1r_4861A 100.00\n",
    "O3_5007A 435.09\n",
    "N2_5755A   0.510000\n",
    "He1r_5876A 15.345\n",
    "S3_6312A   0.76\n",
    "O1_6300A   1.69\n",
    "O1_6364A   0.54\n",
    "H1r_6563A   3.45\n",
    "N2_6584A  19.00\n",
    "S2_6716A   1.220000\n",
    "S2_6731A   2.180000\n",
    "Ar3_7136A  4.91\n",
    "O2_7319A+   6.540000\n",
    "O2_7330A+   5.17\n"
   ]
  },
  {
   "cell_type": "code",
   "execution_count": null,
   "metadata": {
    "collapsed": false
   },
   "outputs": [],
   "source": [
    "obs = pn.Observation()\n",
    "obs.readData('observations1.dat', fileFormat='lines_in_rows', err_default=0.05) # fill obs with data read from observations1.dat\n",
    "obs.def_EBV(label1=\"H1r_6563A\", label2=\"H1r_4861A\", r_theo=2.85)\n",
    "obs.correctData(normWave=4861.)"
   ]
  },
  {
   "cell_type": "code",
   "execution_count": null,
   "metadata": {
    "collapsed": true
   },
   "outputs": [],
   "source": [
    "diags = pn.Diagnostics()\n",
    "diags.addDiagsFromObs(obs)"
   ]
  },
  {
   "cell_type": "code",
   "execution_count": null,
   "metadata": {
    "collapsed": false
   },
   "outputs": [],
   "source": [
    "emisgrids = pn.getEmisGridDict(atomDict=diags.atomDict)\n",
    "f, ax = plt.subplots(figsize=(12,10))\n",
    "diags.plot(emisgrids, obs, ax=ax)"
   ]
  },
  {
   "cell_type": "markdown",
   "metadata": {},
   "source": [
    "## Te-Ne cross determination"
   ]
  },
  {
   "cell_type": "code",
   "execution_count": null,
   "metadata": {
    "collapsed": true
   },
   "outputs": [],
   "source": [
    "diags = pn.Diagnostics() # instantiate the Diagnostic class"
   ]
  },
  {
   "cell_type": "code",
   "execution_count": null,
   "metadata": {
    "collapsed": false
   },
   "outputs": [],
   "source": [
    "temp, dens = diags.getCrossTemDen('[NII] 5755/6584', '[SII] 6731/6716', obs=obs)\n",
    "print(temp, dens)\n",
    "temp, dens = diags.getCrossTemDen('[OIII] 4363/5007', '[SII] 6731/6716', obs=obs)\n",
    "print(temp, dens)"
   ]
  },
  {
   "cell_type": "markdown",
   "metadata": {},
   "source": [
    "## Ionic abundances determination"
   ]
  },
  {
   "cell_type": "code",
   "execution_count": null,
   "metadata": {
    "collapsed": false
   },
   "outputs": [],
   "source": [
    "all_atoms = pn.getAtomDict(atom_list=obs.getUniqueAtoms())\n",
    "print(all_atoms)"
   ]
  },
  {
   "cell_type": "code",
   "execution_count": null,
   "metadata": {
    "collapsed": false
   },
   "outputs": [],
   "source": [
    "line_ab = {}\n",
    "ion_ab = {}\n",
    "for line in obs.getSortedLines():\n",
    "    if line.atom != 'H1r':\n",
    "        line_ab[line.label] = all_atoms[line.atom].getIonAbundance(line.corrIntens, temp, dens, \n",
    "                                                      to_eval=line.to_eval)\n",
    "        if line.atom not in ion_ab:\n",
    "            ion_ab[line.atom] = []\n",
    "        ion_ab[line.atom].append(line_ab[line.label][0])"
   ]
  },
  {
   "cell_type": "code",
   "execution_count": null,
   "metadata": {
    "collapsed": false
   },
   "outputs": [],
   "source": [
    "for label in line_ab:\n",
    "    print('{:11s}: {:4.2f}'.format(label, 12+np.log10(line_ab[label][0])))"
   ]
  },
  {
   "cell_type": "code",
   "execution_count": null,
   "metadata": {
    "collapsed": false
   },
   "outputs": [],
   "source": [
    "for ion in ion_ab:\n",
    "    print(ion, ion_ab[ion])"
   ]
  },
  {
   "cell_type": "code",
   "execution_count": null,
   "metadata": {
    "collapsed": false
   },
   "outputs": [],
   "source": [
    "for atom in ion_ab:\n",
    "    mean = np.mean(np.asarray(ion_ab[atom]))\n",
    "    ion_ab[atom] = mean\n",
    "    print('{:4s}: {:4.2f}'.format(atom, 12+np.log10(mean)))"
   ]
  },
  {
   "cell_type": "code",
   "execution_count": null,
   "metadata": {
    "collapsed": false
   },
   "outputs": [],
   "source": [
    "icf = pn.ICF()\n",
    "elem_abun_14 = icf.getElemAbundance(ion_ab, icf_family='DIMS14')\n",
    "elem_abun_94 = icf.getElemAbundance(ion_ab, icf_family='KB94')"
   ]
  },
  {
   "cell_type": "code",
   "execution_count": null,
   "metadata": {
    "collapsed": false
   },
   "outputs": [],
   "source": [
    "print('Kingsburg and Barlow, 1994')\n",
    "elem_abun = elem_abun_94\n",
    "for icf_ref in np.sort(list(elem_abun.keys())):\n",
    "    if np.isfinite(elem_abun[icf_ref]) and np.log10(elem_abun[icf_ref]).all() > -10:\n",
    "        print('{0:12s} {1:2s} = {2:.3}'.format(icf_ref, \n",
    "                                                  icf.all_icfs[icf_ref]['elem'],\n",
    "                                                  np.log10(elem_abun[icf_ref])+12))\n",
    "print('Delgado-Inglada et al, 2014')\n",
    "elem_abun = elem_abun_14\n",
    "for icf_ref in np.sort(list(elem_abun.keys())):\n",
    "    if np.isfinite(elem_abun[icf_ref]) and np.log10(elem_abun[icf_ref]).all() > -10:\n",
    "        print('{0:12s} {1:2s} = {2:.3}'.format(icf_ref, \n",
    "                                                  icf.all_icfs[icf_ref]['elem'],\n",
    "                                                  np.log10(elem_abun[icf_ref])+12))"
   ]
  },
  {
   "cell_type": "code",
   "execution_count": null,
   "metadata": {
    "collapsed": true
   },
   "outputs": [],
   "source": []
  }
 ],
 "metadata": {
  "kernelspec": {
   "display_name": "Python 3",
   "language": "python",
   "name": "python3"
  },
  "language_info": {
   "codemirror_mode": {
    "name": "ipython",
    "version": 3
   },
   "file_extension": ".py",
   "mimetype": "text/x-python",
   "name": "python",
   "nbconvert_exporter": "python",
   "pygments_lexer": "ipython3",
   "version": "3.6.1"
  }
 },
 "nbformat": 4,
 "nbformat_minor": 0
}
