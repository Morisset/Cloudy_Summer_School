{
 "cells": [
  {
   "cell_type": "code",
   "execution_count": 1,
   "metadata": {},
   "outputs": [],
   "source": [
    "import pandas as pd\n",
    "import pymysql\n",
    "import matplotlib.pyplot as plt\n",
    "import numpy as np\n",
    "%matplotlib inline"
   ]
  },
  {
   "cell_type": "code",
   "execution_count": 2,
   "metadata": {},
   "outputs": [],
   "source": [
    "co = pymysql.connect(host='132.248.3.66', db='3MdB', \n",
    "                     user='OVN_user', passwd='oiii5007') "
   ]
  },
  {
   "cell_type": "code",
   "execution_count": 63,
   "metadata": {},
   "outputs": [],
   "source": [
    "res = pd.read_sql(\"\"\"SELECT \n",
    "OXYGEN as O,\n",
    "NITROGEN as N,\n",
    "logU_mean,\n",
    "Hbfrac,\n",
    "atm1 as teff,\n",
    "lumi,\n",
    "dens,\n",
    "HE_2__4686A / H__1__4861A as HeII,\n",
    "TOTL__7325A/O__3__5007A as RO,\n",
    "(S_II__6731A+S_II__6716A)/S__3__6312A as RS,\n",
    "TOTL__4363A/O__3__5007A as RO3,\n",
    "N__2__5755A/N__2__6584A as RN2,\n",
    "O__3__5007A/H__1__4861A as O3,\n",
    "N__2__6584A/H__1__4861A as N2\n",
    "FROM tab \n",
    "WHERE ref like 'PNe_2014' \n",
    "AND abs(HE_2__4686A/H__1__4861A - 0.7) / 0.7 < 0.3\n",
    "AND abs(TOTL__7325A/O__3__5007A - 0.0095) / 0.0095 < 0.3 \n",
    "AND abs((S_II__6731A+S_II__6716A)/S__3__6312A - 15 ) / 15 < 0.3\n",
    "AND abs(TOTL__4363A/O__3__5007A - 0.033) / 0.033 < 0.5\n",
    "AND abs(N__2__5755A/N__2__6584A - 0.019) / 0.019 < 0.5\n",
    "AND abs(O__3__5007A/H__1__4861A - 8.5) / 8.5 < 0.3\n",
    "AND abs(N__2__6584A/H__1__4861A - 4.5) / 4.5 < 0.3\n",
    "\"\"\", \n",
    "con=co)"
   ]
  },
  {
   "cell_type": "code",
   "execution_count": 64,
   "metadata": {},
   "outputs": [
    {
     "data": {
      "text/plain": [
       "6"
      ]
     },
     "execution_count": 64,
     "metadata": {},
     "output_type": "execute_result"
    }
   ],
   "source": [
    "len(res)"
   ]
  },
  {
   "cell_type": "code",
   "execution_count": 65,
   "metadata": {},
   "outputs": [
    {
     "data": {
      "image/png": "[encoded data removed]",
      "text/plain": [
       "<matplotlib.figure.Figure at 0x10de97748>"
      ]
     },
     "metadata": {},
     "output_type": "display_data"
    }
   ],
   "source": [
    "f, ((ax1, ax2), (ax3, ax4)) = plt.subplots(2,2, figsize=(10,10))\n",
    "ax1.hist(res['O'])\n",
    "ax1.set_xlabel('log O/H')\n",
    "ax2.hist(res['teff']/1e5)\n",
    "ax2.set_xlabel('Teff [1e5K]')\n",
    "ax3.hist(res['lumi'])\n",
    "ax3.set_xlabel('log Luminosity [Lsol]')\n",
    "ax4.hist(res['logU_mean'])\n",
    "ax4.set_xlabel('log U');"
   ]
  },
  {
   "cell_type": "code",
   "execution_count": 66,
   "metadata": {},
   "outputs": [
    {
     "name": "stdout",
     "output_type": "stream",
     "text": [
      "      O     N  logU_mean  Hbfrac      teff  lumi  dens      HeII        RO  \\\n",
      "0 -3.36 -3.75   -2.22243     1.0  270000.0   4.0   0.0  0.791698  0.012270   \n",
      "1 -3.36 -3.75   -2.28848     1.0  270000.0   4.0   0.0  0.775320  0.012320   \n",
      "2 -3.36 -3.75   -2.28488     1.0  270000.0   4.0   0.0  0.781000  0.012267   \n",
      "3 -3.36 -3.75   -2.28914     1.0  270000.0   4.0   0.0  0.776844  0.012303   \n",
      "4 -3.36 -3.75   -2.20393     1.0  270000.0   4.0   0.0  0.791737  0.012345   \n",
      "5 -3.36 -3.75   -2.20938     1.0  270000.0   4.0   0.0  0.791171  0.012334   \n",
      "\n",
      "          RS       RO3       RN2         O3        N2      khi2  \n",
      "0  12.409950  0.016579  0.021620  10.691379  3.150500  0.124868  \n",
      "1  14.434181  0.016590  0.020931  10.502603  3.262364  0.117417  \n",
      "2  13.621866  0.016590  0.021173  10.596078  3.216346  0.119666  \n",
      "3  14.268723  0.016590  0.020996  10.528206  3.248527  0.117911  \n",
      "4  12.570666  0.016574  0.021577  10.658293  3.181201  0.124292  \n",
      "5  12.610334  0.016576  0.021557  10.656535  3.181529  0.124040  \n"
     ]
    }
   ],
   "source": [
    "def khi(label, obs):\n",
    "    return (res[label] - obs)/obs\n",
    "\n",
    "khi2 = np.sqrt(khi('HeII', 0.7)**2 + \n",
    "               khi('RO', 8/850.)**2 +\n",
    "               khi('RS', 15)**2 +\n",
    "               khi('RO3', 28/850)**2 +\n",
    "               khi('RN2', 0.019)**2 +\n",
    "               khi('O3', 8.5)**2 +\n",
    "               khi('N2', 4.5)**2) / 6.\n",
    "res['khi2'] = khi2\n",
    "print(res)\n"
   ]
  },
  {
   "cell_type": "code",
   "execution_count": null,
   "metadata": {},
   "outputs": [],
   "source": []
  },
  {
   "cell_type": "code",
   "execution_count": null,
   "metadata": {},
   "outputs": [],
   "source": []
  }
 ],
 "metadata": {
  "kernelspec": {
   "display_name": "Python 3",
   "language": "python",
   "name": "python3"
  },
  "language_info": {
   "codemirror_mode": {
    "name": "ipython",
    "version": 3
   },
   "file_extension": ".py",
   "mimetype": "text/x-python",
   "name": "python",
   "nbconvert_exporter": "python",
   "pygments_lexer": "ipython3",
   "version": "3.6.1"
  }
 },
 "nbformat": 4,
 "nbformat_minor": 2
}
