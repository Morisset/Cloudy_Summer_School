{
 "cells": [
  {
   "cell_type": "code",
   "execution_count": 40,
   "metadata": {},
   "outputs": [],
   "source": [
    "import pandas as pd\n",
    "import pymysql\n",
    "import matplotlib.pyplot as plt\n",
    "import numpy as np\n",
    "import pyCloudy as pc\n",
    "import pyneb as pn\n",
    "%matplotlib inline"
   ]
  },
  {
   "cell_type": "code",
   "execution_count": 2,
   "metadata": {},
   "outputs": [],
   "source": [
    "# Connect to the database\n",
    "co = pymysql.connect(host='132.248.3.66', db='3MdB', \n",
    "                     user='OVN_user', passwd='oiii5007') "
   ]
  },
  {
   "cell_type": "code",
   "execution_count": 5,
   "metadata": {},
   "outputs": [
    {
     "name": "stdout",
     "output_type": "stream",
     "text": [
      "(0.009133489461358314, 15.084745762711863, 0.03278688524590164, 0.018763796909492272)\n"
     ]
    }
   ],
   "source": [
    "# Compute some line ratios from the observation paper by Parker et al, 2011\n",
    "RO_obs = (4.7+3.1) / 854\n",
    "RS_obs = (49.+40) / 5.9\n",
    "RO3_obs = 28./854\n",
    "RN2_obs = 8.5/453\n",
    "print(RO_obs, RS_obs, RO3_obs, RN2_obs)"
   ]
  },
  {
   "cell_type": "code",
   "execution_count": 3,
   "metadata": {},
   "outputs": [],
   "source": [
    "# Look for the models that fit some lines from the 3MdB database\n",
    "res = pd.read_sql(\"\"\"SELECT \n",
    "N as ID,\n",
    "file,\n",
    "OXYGEN as O,\n",
    "NITROGEN as N,\n",
    "logU_mean,\n",
    "Hbfrac,\n",
    "atm1 as teff,\n",
    "lumi,\n",
    "dens,\n",
    "radius,\n",
    "HE_2__4686A / H__1__4861A as HeII,\n",
    "TOTL__7325A/O__3__5007A as RO,\n",
    "(S_II__6731A+S_II__6716A)/S__3__6312A as RS,\n",
    "TOTL__4363A/O__3__5007A as RO3,\n",
    "N__2__5755A/N__2__6584A as RN2,\n",
    "O__3__5007A/H__1__4861A as O3,\n",
    "N__2__6584A/H__1__4861A as N2\n",
    "FROM tab \n",
    "WHERE ref like 'PNe_2014' \n",
    "AND abs(HE_2__4686A/H__1__4861A - 0.7) / 0.7 < 0.3\n",
    "AND abs(TOTL__7325A/O__3__5007A - 0.00913) / 0.00913 < 0.3 \n",
    "AND abs((S_II__6731A+S_II__6716A)/S__3__6312A - 15.1 ) / 15.1 < 0.3\n",
    "AND abs(N__2__5755A/N__2__6584A - 0.0188) / 0.0188 < 0.3\n",
    "AND abs(O__3__5007A/H__1__4861A - 8.54) / 8.54 < 0.3\n",
    "AND abs(N__2__6584A/H__1__4861A - 4.53) / 4.53 < 0.3\n",
    "AND abs(TOTL__4363A/O__3__5007A - 0.0328) / 0.0328 < 0.6\n",
    "\"\"\", \n",
    "con=co)\n",
    "#\n"
   ]
  },
  {
   "cell_type": "code",
   "execution_count": 4,
   "metadata": {},
   "outputs": [
    {
     "data": {
      "text/plain": [
       "91"
      ]
     },
     "execution_count": 4,
     "metadata": {},
     "output_type": "execute_result"
    }
   ],
   "source": [
    "# This is the number of results we have\n",
    "len(res)"
   ]
  },
  {
   "cell_type": "code",
   "execution_count": 6,
   "metadata": {},
   "outputs": [
    {
     "name": "stdout",
     "output_type": "stream",
     "text": [
      "         ID          file     O     N  logU_mean  Hbfrac      teff     lumi  \\\n",
      "88  2337479  BB_G1_903572 -3.36 -3.75   -2.48161     1.0  300000.0  4.00000   \n",
      "53  1994037  BB_G1_903680 -3.36 -3.75   -2.48319     1.0  300000.0  4.00000   \n",
      "69  2130315  BB_G1_903788 -3.36 -3.75   -2.48775     1.0  300000.0  4.00000   \n",
      "25  1821381  BB_G1_903896 -3.36 -3.75   -2.50433     1.0  300000.0  4.00000   \n",
      "89  2337512  BB_G1_903572 -3.36 -3.75   -2.48229     1.0  300000.0  4.00000   \n",
      "54  1994045  BB_G1_903680 -3.36 -3.75   -2.48391     1.0  300000.0  4.00000   \n",
      "70  2130319  BB_G1_903788 -3.36 -3.75   -2.48848     1.0  300000.0  4.00000   \n",
      "26  1821385  BB_G1_903896 -3.36 -3.75   -2.50544     1.0  300000.0  4.00000   \n",
      "36  1863948  BB_G1_904004 -3.36 -3.75   -2.55614     1.0  300000.0  4.00000   \n",
      "37  1863952  BB_G1_904004 -3.36 -3.75   -2.55806     1.0  300000.0  4.00000   \n",
      "28  1832057  BB_G1_897525 -3.36 -3.75   -2.35075     1.0  240000.0  4.00000   \n",
      "57  2078810  BB_G1_897633 -3.36 -3.75   -2.35255     1.0  240000.0  4.00000   \n",
      "67  2122838  BB_G1_897741 -3.36 -3.75   -2.35828     1.0  240000.0  4.00000   \n",
      "64  2122021  BB_G1_897849 -3.36 -3.75   -2.37786     1.0  240000.0  4.00000   \n",
      "35  1860443  BB_G1_897945 -3.36 -3.75   -2.55154     1.0  240000.0  4.00000   \n",
      "85  2330596  BB_G1_900981 -3.36 -3.75   -2.49201     1.0  270000.0  4.00000   \n",
      "6   1791853   BB_C_864370 -3.36 -3.75   -2.39751     1.0  270000.0  4.25042   \n",
      "16  1799308   BB_C_864478 -3.36 -3.75   -2.40175     1.0  270000.0  4.25042   \n",
      "14  1797564   BB_C_864586 -3.36 -3.75   -2.41677     1.0  270000.0  4.25042   \n",
      "20  1801742   BB_C_864262 -3.36 -3.75   -2.39522     1.0  270000.0  4.25042   \n",
      "9   1792576   BB_C_864694 -3.36 -3.75   -2.46345     1.0  270000.0  4.25042   \n",
      "41  1891755  BB_G1_897957 -3.36 -3.75   -2.45266     1.0  240000.0  4.00000   \n",
      "44  1911045  BB_G1_900549 -3.36 -3.75   -2.38780     1.0  270000.0  4.00000   \n",
      "74  2248870  BB_G1_900765 -3.36 -3.75   -2.39544     1.0  270000.0  4.00000   \n",
      "23  1814398  BB_G1_900657 -3.36 -3.75   -2.38926     1.0  270000.0  4.00000   \n",
      "32  1856383  BB_G1_900873 -3.36 -3.75   -2.43145     1.0  270000.0  4.00000   \n",
      "43  1910523  BB_G1_897837 -3.36 -3.75   -2.52622     1.0  240000.0  4.00000   \n",
      "86  2330609  BB_G1_900981 -3.36 -3.75   -2.49690     1.0  270000.0  4.00000   \n",
      "31  1856382  BB_G1_900873 -3.36 -3.75   -2.41471     1.0  270000.0  4.00000   \n",
      "83  2330569  BB_G1_900981 -3.36 -3.75   -2.49552     1.0  270000.0  4.00000   \n",
      "\n",
      "        dens     radius      HeII        RO         RS       RO3       RN2  \\\n",
      "88  0.000000  15.477121  0.742350  0.011353  15.081877  0.015876  0.020650   \n",
      "53  0.000000  16.000000  0.742375  0.011352  15.071735  0.015876  0.020652   \n",
      "69  0.000000  16.477121  0.742437  0.011351  15.044039  0.015879  0.020659   \n",
      "25  0.000000  17.000000  0.742662  0.011350  14.958425  0.015888  0.020679   \n",
      "89  0.000000  15.477121  0.744905  0.011273  14.946431  0.015876  0.020752   \n",
      "54  0.000000  16.000000  0.744903  0.011273  14.938900  0.015876  0.020752   \n",
      "70  0.000000  16.477121  0.745068  0.011269  14.903173  0.015879  0.020764   \n",
      "26  0.000000  17.000000  0.745145  0.011270  14.831161  0.015888  0.020778   \n",
      "36  0.000000  17.477121  0.742777  0.011395  14.756508  0.015915  0.020728   \n",
      "37  0.000000  17.477121  0.745512  0.011308  14.613079  0.015915  0.020838   \n",
      "28  0.000000  15.477121  0.746070  0.010071  16.626114  0.014776  0.020448   \n",
      "57  0.000000  16.000000  0.746219  0.010056  16.556953  0.014776  0.020461   \n",
      "67  0.000000  16.477121  0.746060  0.010042  16.510614  0.014777  0.020469   \n",
      "64  0.000000  17.000000  0.746522  0.009957  16.094477  0.014781  0.020551   \n",
      "35  0.000000  17.477121  0.735524  0.010572  17.749990  0.014021  0.020349   \n",
      "85  0.000000  17.477121  0.763242  0.011600  16.786032  0.015576  0.020612   \n",
      "6   2.477121  16.000000  0.727984  0.010774  16.069827  0.015334  0.020529   \n",
      "16  2.477121  16.477121  0.728056  0.010774  16.059483  0.015334  0.020532   \n",
      "14  2.477121  17.000000  0.728339  0.010768  15.999211  0.015334  0.020546   \n",
      "20  2.477121  15.477121  0.728478  0.010765  15.969314  0.015334  0.020553   \n",
      "9   2.477121  17.477121  0.728392  0.010774  15.983845  0.015337  0.020549   \n",
      "41  0.000000  17.477121  0.735459  0.010000  18.057085  0.014793  0.020134   \n",
      "44  0.000000  15.477121  0.775068  0.011584  15.610990  0.015549  0.021001   \n",
      "74  0.000000  16.477121  0.775143  0.011556  15.532894  0.015552  0.021019   \n",
      "23  0.000000  16.000000  0.775492  0.011566  15.524510  0.015550  0.021026   \n",
      "32  0.000000  17.000000  0.762783  0.011747  17.386088  0.015558  0.020498   \n",
      "43  0.000000  17.000000  0.732229  0.010778  18.566480  0.014014  0.020191   \n",
      "86  0.000000  17.477121  0.757647  0.011680  17.618375  0.015576  0.020390   \n",
      "31  0.000000  17.000000  0.776312  0.011457  15.172328  0.015558  0.021116   \n",
      "83  0.000000  17.477121  0.755734  0.011716  17.795871  0.015576  0.020317   \n",
      "\n",
      "           O3        N2      khi2  \n",
      "88  10.902522  4.049009  0.811244  \n",
      "53  10.904073  4.047718  0.811688  \n",
      "69  10.909051  4.044507  0.813367  \n",
      "25  10.925599  4.035090  0.819493  \n",
      "89  10.965305  3.996995  0.826140  \n",
      "54  10.966196  3.996187  0.826469  \n",
      "70  10.973650  3.991010  0.829134  \n",
      "26  10.987100  3.983742  0.834850  \n",
      "36  10.992239  4.033154  0.847068  \n",
      "37  11.060407  3.976455  0.865579  \n",
      "28  10.971666  3.491754  0.865723  \n",
      "57  10.979357  3.483947  0.866504  \n",
      "67  10.987553  3.477185  0.867835  \n",
      "64  11.042370  3.429245  0.879992  \n",
      "35  11.044126  3.987700  0.885519  \n",
      "85  10.759648  3.965486  0.912379  \n",
      "6   10.929036  3.418227  0.915346  \n",
      "16  10.930065  3.417605  0.915672  \n",
      "14  10.936390  3.413613  0.916757  \n",
      "20  10.939274  3.411333  0.917298  \n",
      "9   10.948763  3.419118  0.917942  \n",
      "41  10.951793  3.531587  0.926264  \n",
      "44  10.831267  3.876441  0.931563  \n",
      "74  10.846493  3.862978  0.931868  \n",
      "23  10.844424  3.864749  0.933579  \n",
      "32  10.617160  4.027138  0.936653  \n",
      "43  10.921999  4.098441  0.937242  \n",
      "86  10.651531  4.028970  0.937380  \n",
      "31  10.909959  3.807503  0.942372  \n",
      "83  10.612641  4.055313  0.943651  \n"
     ]
    }
   ],
   "source": [
    "# Let's define a kind of Khi2. And print the 30 best results\n",
    "def khi2(label, obs, sigma=0.2):\n",
    "    return ((res[label] - obs)/obs/sigma)**2\n",
    "\n",
    "khi2_tot =        ((khi2('HeII', 0.7) + \n",
    "                    khi2('RO', RO_obs) +\n",
    "                    khi2('RS', RS_obs) +\n",
    "                    khi2('RO3', RO3_obs, sigma=0.4) +\n",
    "                    khi2('RN2', RN2_obs) +\n",
    "                    khi2('O3', 8.54) +\n",
    "                    khi2('N2', 4.53))/7)\n",
    "res['khi2'] = khi2_tot\n",
    "res=res.sort_values('khi2')\n",
    "print(res[0:30])"
   ]
  },
  {
   "cell_type": "code",
   "execution_count": 7,
   "metadata": {},
   "outputs": [
    {
     "data": {
      "image/png": "[encoded data removed]",
      "text/plain": [
       "<matplotlib.figure.Figure at 0x11095ced0>"
      ]
     },
     "metadata": {},
     "output_type": "display_data"
    }
   ],
   "source": [
    "# Let's do some histograms of the 60 best models\n",
    "res2 = res[0:60]\n",
    "f, ((ax1, ax2), (ax3, ax4)) = plt.subplots(2,2, figsize=(10,10))\n",
    "ax1.hist(res2['O'])\n",
    "ax1.set_xlabel('log O/H')\n",
    "ax2.hist(res2['teff']/1e5)\n",
    "ax2.set_xlabel('Teff [1e5K]')\n",
    "ax3.hist(res2['lumi'])\n",
    "ax3.set_xlabel('log Luminosity [Lsol]')\n",
    "ax4.hist(res2['logU_mean'])\n",
    "ax4.set_xlabel('log U');"
   ]
  },
  {
   "cell_type": "code",
   "execution_count": 8,
   "metadata": {},
   "outputs": [
    {
     "name": "stdout",
     "output_type": "stream",
     "text": [
      "ID               1791853\n",
      "file         BB_C_864370\n",
      "O                  -3.36\n",
      "N                  -3.75\n",
      "logU_mean       -2.39751\n",
      "Hbfrac                 1\n",
      "teff              270000\n",
      "lumi             4.25042\n",
      "dens             2.47712\n",
      "radius                16\n",
      "HeII            0.727984\n",
      "RO             0.0107737\n",
      "RS               16.0698\n",
      "RO3            0.0153337\n",
      "RN2            0.0205292\n",
      "O3                10.929\n",
      "N2               3.41823\n",
      "khi2            0.915346\n",
      "Name: 6, dtype: object\n"
     ]
    }
   ],
   "source": [
    "# Let's choose one model and use its name and ID from 3MdB.\n",
    "print(res.loc[6])\n",
    "model_name=res.loc[6]['file']\n",
    "model_ID = int(res.loc[6]['ID'])"
   ]
  },
  {
   "cell_type": "code",
   "execution_count": 52,
   "metadata": {},
   "outputs": [
    {
     "name": "stdout",
     "output_type": "stream",
     "text": [
      "         N    user date_submitted date_running       ref         file  \\\n",
      "0  1791853  Gloria           None         None  PNe_2014  BB_C_864370   \n",
      "\n",
      "              dir C_version geom    atm_cmd      ...       F25__2500M_rad  \\\n",
      "0  PNe_2014b/BB_C     10.00       Blackbody      ...             0.195966   \n",
      "\n",
      "   F60__6000M_rad F100_1000M_rad MIPS_2400M_rad MIPS_7000M_rad  \\\n",
      "0        0.024701       0.010589         0.1949       0.000907   \n",
      "\n",
      "   MIPS_1600M_rad IRAC_3600M_rad IRAC_4500M_rad IRAC_5800M_rad IRAC_8000M_rad  \n",
      "0        0.001002       0.004602        0.01723       0.003929       0.082944  \n",
      "\n",
      "[1 rows x 511 columns]\n"
     ]
    }
   ],
   "source": [
    "# All the 3MdB fields can be download using the N ID\n",
    "MdB_model = pd.read_sql(\"SELECT * from tab where N = {}\".format(model_ID), con=co)\n",
    "print(MdB_model)"
   ]
  },
  {
   "cell_type": "code",
   "execution_count": 9,
   "metadata": {},
   "outputs": [],
   "source": [
    "# Connect to 3MdB\n",
    "from pyCloudy.db.use3MdB import print_input\n",
    "OVN_dic = {'host' : '132.248.3.66', \n",
    "       'user_name' : 'OVN_user',\n",
    "       'user_passwd' : 'oiii5007',\n",
    "       'base_name' : '3MdB',\n",
    "       'pending_table' : '`pending`',\n",
    "       'master_table' : '`tab`',\n",
    "       'teion_table' : '`teion`',\n",
    "       'abion_table' : '`abion`',\n",
    "       'temis_table' : '`temis`',\n",
    "       'lines_table' : '`lines`',\n",
    "       'seds_table': '`seds`' \n",
    "       }\n",
    "# Generate the input file for Cloudy from the 3MdB record\n",
    "print_input(model_ID, OVN_dic=OVN_dic, read_tab=True, dir='../models')"
   ]
  },
  {
   "cell_type": "code",
   "execution_count": 13,
   "metadata": {},
   "outputs": [],
   "source": [
    "# You have to use Cloudy 13 for this run, as the program is not ready for C13... \n",
    "# And it also needs to be run with python 2, as python 3 changed the way strings are printed and I did not updated for this.\n",
    "pc.config.cloudy_exe = '/usr/local/Cloudy/c13.03/source/cloudy.exe'\n",
    "pc.run_cloudy(dir_ = '../models/', n_proc = 1, use_make = False, model_name = model_name)"
   ]
  },
  {
   "cell_type": "code",
   "execution_count": 14,
   "metadata": {},
   "outputs": [],
   "source": [
    "# Read the cloudy model into a CloudyModel object\n",
    "M = pc.CloudyModel('../models/{}'.format(model_name))"
   ]
  },
  {
   "cell_type": "code",
   "execution_count": 15,
   "metadata": {},
   "outputs": [
    {
     "name": "stdout",
     "output_type": "stream",
     "text": [
      " Name of the model: ../models/BB_C_864370\n",
      " R_in (cut) = 1.000e+16 (1.000e+16), R_out (cut) = 2.936e+18 (2.936e+18)\n",
      " H+ mass = 1.00e+01, H mass = 2.68e+01 N zones: 406\n",
      " <H+/H> = 0.80, <He++/He> = 0.53, <He+/He> = 0.34\n",
      " <O+++/O> = 0.19, <O++/O> = 0.29, <O+/O> = 0.16\n",
      " <N+++/O> = 0.19, <N++/O> = 0.31, <N+/O> = 0.21\n",
      " T(O+++) = 14428, T(O++) = 13302, T(O+) = 11519\n",
      " <ne> = 133,  <nH> = 300, T0 = 12728, t2=0.0626\n",
      " <log U> = -2.71\n"
     ]
    }
   ],
   "source": [
    "M.print_stats()"
   ]
  },
  {
   "cell_type": "code",
   "execution_count": 16,
   "metadata": {},
   "outputs": [
    {
     "data": {
      "text/plain": [
       "array(['BAC___3646A', 'COUT__3646A', 'CREF__3646A', 'H__1__4861A',\n",
       "       'TOTL__4861A', 'H__1__6563A', 'H__1__4340A', 'H__1__4102A',\n",
       "       'H__1__3970A', 'H__1__3835A', 'H__1__1216A', 'H__1_4051M',\n",
       "       'H__1_2625M', 'H__1_7458M', 'HE_1__5876A', 'CA_B__5876A',\n",
       "       'HE_1__7281A', 'HE_1__7065A', 'HE_1__4471A', 'CA_B__4471A',\n",
       "       'HE_1__6678A', 'CA_B__6678A', 'TOTL_1083M', 'HE_2__1640A',\n",
       "       'HE_2__4686A', 'C__1__8727A', 'TOTL__9850A', 'C_IC__9850A',\n",
       "       'TOTL__2326A', 'C__2__1335A', 'C__2__1761A', 'TOTL__6580A',\n",
       "       'C__2__4267A', 'C__2_1576M', 'C__3_9770A', 'C__3__1907A',\n",
       "       'C__3__1910A', 'C__3__4649A', 'C__3__2297A', 'TOTL__1549A',\n",
       "       'C__4__1549A', 'C__4__4659A', 'N__1__5198A', 'N__1__5200A',\n",
       "       'N__2__5755A', 'N_2R__5755A', 'N__2__6548A', 'N__2__6584A',\n",
       "       'N__2__2141A', 'N__2__4239A', 'N__2__4041A', 'TOTL__5679A',\n",
       "       'N__2_1217M', 'N__2_2054M', 'N__3_5721M', 'N__3__4641A',\n",
       "       'TOTL__1750A', 'N__3__4379A', 'N__4__1485A', 'N__4__1719A',\n",
       "       'TOTL__1240A', 'N__5__1239A', 'O__1__7773A', 'O__1__6300A',\n",
       "       'O__1__5577A', 'O__1_6317M', 'O__1_1455M', 'O_II__3726A',\n",
       "       'O_II__3729A', 'O_II__7323A', 'O_II__7332A', 'O_2R__3726A',\n",
       "       'O_2R__3729A', 'O_2R__7323A', 'O_2R__7332A', 'TOTL__3727A',\n",
       "       'TOTL__7325A', 'O_II__2471A', 'O__2__4152A', 'TOTL__4341A',\n",
       "       'O__2__4651A', 'O_2R__4651A', 'TOTL__4363A', 'REC___4363A',\n",
       "       'O__3__4959A', 'O__3__5007A', 'O__3_5180M', 'O__3_8833M',\n",
       "       'TOTL__1665A', 'TOTL__1402A', 'O__4__1342A', 'O__4_2588M',\n",
       "       'TOTL__1218A', 'O__5__1216A', 'NE_2_1281M', 'NE_3__3869A',\n",
       "       'NE_3__3968A', 'NE_3_1555M', 'NE_3_3601M', 'NE_3__1815A',\n",
       "       'NE_4__1602A', 'NE_4__2424A', 'NE_4__4720A', 'NE_5__3426A',\n",
       "       'NE_5__3346A', 'NE_5__2976A', 'NE_5_2431M', 'NE_5_1432M',\n",
       "       'TOTL__2798A', 'SI_2_3481M', 'SI_2__2334A', 'SI_3__1892A',\n",
       "       'SI_4__1394A', 'S_II__4070A', 'S_II__4078A', 'S_II__6731A',\n",
       "       'S_II__6716A', 'S_II_1029M', 'S_II_1034M', 'S_II_1032M',\n",
       "       'S_II_1037M', 'S__3__6312A', 'S__3__9532A', 'S__3__9069A',\n",
       "       'S__3_1867M', 'S__3_3347M', 'S__4_1051M', 'S__4__1398A',\n",
       "       'CL_2__8579A', 'CL_2__9124A', 'CL_2__6162A', 'CL_2_1440M',\n",
       "       'CL_3__8552A', 'TOTL__8494A', 'CL_3__5538A', 'CL_3__5518A',\n",
       "       'CL_4__7532A', 'CL_4_2040M', 'CL_4_1170M', 'AR_2_6980M',\n",
       "       'AR_3__7135A', 'AR_3__7751A', 'AR_3__5192A', 'AR_3_9000M',\n",
       "       'AR_3_2183M', 'AR_4__7171A', 'AR_4__4711A', 'AR_4__4740A',\n",
       "       'AR_5__7005A', 'AR_5_1310M', 'AR_5_8000M', 'FE_2__8617A',\n",
       "       'FE_3__4608A', 'FE_3__4668A', 'FE_3__4659A', 'FE_3__4702A',\n",
       "       'FE_3__4734A', 'FE_3__4881A', 'FE_3__5271A', 'FE_3__4755A',\n",
       "       'FE_4__2836A', 'FE_7__5721A', 'FE_7__4989A', 'FE_7__6087A',\n",
       "       'F12__1200M', 'F25__2500M', 'F60__6000M', 'F100_1000M',\n",
       "       'MIPS_2400M', 'MIPS_7000M', 'MIPS_1600M', 'IRAC_3600M',\n",
       "       'IRAC_4500M', 'IRAC_5800M', 'IRAC_8000M'],\n",
       "      dtype='|S11')"
      ]
     },
     "execution_count": 16,
     "metadata": {},
     "output_type": "execute_result"
    }
   ],
   "source": [
    "M.emis_labels"
   ]
  },
  {
   "cell_type": "code",
   "execution_count": 53,
   "metadata": {},
   "outputs": [],
   "source": [
    "def compare_obs(M, label, obs_value):\n",
    "    print('{} {:6.1f} {:6.1f}'.format(label, obs_value,M.get_emis_vol(label)/M.get_emis_vol('H__1__4861A')*100))"
   ]
  },
  {
   "cell_type": "code",
   "execution_count": 54,
   "metadata": {},
   "outputs": [
    {
     "name": "stdout",
     "output_type": "stream",
     "text": [
      "LINE          OBS   MODEL\n",
      "O_II__3726A  333.0  205.8\n",
      "O_II__3729A  333.0  247.1\n",
      "NE_3__3869A  135.0  163.4\n",
      "TOTL__4363A   28.0   16.4\n",
      "HE_2__4686A   70.0   73.0\n",
      "O__3__5007A  854.0 1045.7\n",
      "N__2__5755A    8.5    7.7\n",
      "HE_1__5876A   11.0    6.4\n",
      "S__3__6312A    5.9    6.4\n",
      "N__2__6584A  453.0  379.6\n",
      "S_II__6716A   49.0   61.1\n",
      "S_II__6731A   40.0   51.3\n",
      "AR_3__7135A   19.0   26.7\n",
      "O_II__7323A    4.7    6.9\n",
      "O_II__7332A    3.1    5.6\n",
      "Te(OIII)     19702  13643\n",
      "Te(NII)      10980  11353\n",
      "Compare the electron temeprature in the N+ and O++ regions...\n"
     ]
    }
   ],
   "source": [
    "# This will compare the model and the results\n",
    "print('LINE          OBS   MODEL')\n",
    "compare_obs(M, 'O_II__3726A', 333)\n",
    "compare_obs(M, 'O_II__3729A', 333)\n",
    "compare_obs(M, 'NE_3__3869A', 135)\n",
    "compare_obs(M, 'TOTL__4363A', 28)\n",
    "compare_obs(M, 'HE_2__4686A', 70)\n",
    "compare_obs(M, 'O__3__5007A', 854)\n",
    "compare_obs(M, 'N__2__5755A', 8.5)\n",
    "compare_obs(M, 'HE_1__5876A', 11)\n",
    "compare_obs(M, 'S__3__6312A', 5.9)\n",
    "compare_obs(M, 'N__2__6584A', 453)\n",
    "compare_obs(M, 'S_II__6716A', 49)\n",
    "compare_obs(M, 'S_II__6731A', 40)\n",
    "compare_obs(M, 'AR_3__7135A', 19)\n",
    "compare_obs(M, 'O_II__7323A', 4.7)\n",
    "compare_obs(M, 'O_II__7332A', 3.1)\n",
    "O3 = pn.Atom('O',3)\n",
    "N2 = pn.Atom('N',2)\n",
    "T_O3_obs = O3.getTemDen(28./854, den=300., wave1=4363, wave2=5007)\n",
    "T_O3_mod = O3.getTemDen(M.get_emis_vol('TOTL__4363A')/M.get_emis_vol('O__3__5007A'), den=300., wave1=4363, wave2=5007)\n",
    "print('Te(OIII)    {:6.0f} {:6.0f}'.format(T_O3_obs, T_O3_mod))\n",
    "T_N2_obs = N2.getTemDen(8.5/453, den=300., wave1=5755, wave2=6584)\n",
    "T_N2_mod = N2.getTemDen(M.get_emis_vol('N__2__5755A')/M.get_emis_vol('N__2__6584A'), den=300., wave1=5755, wave2=6584)\n",
    "print('Te(NII)     {:6.0f} {:6.0f}'.format(T_N2_obs, T_N2_mod))\n",
    "print('Compare the electron temeprature in the N+ and O++ regions...')"
   ]
  },
  {
   "cell_type": "code",
   "execution_count": 54,
   "metadata": {},
   "outputs": [],
   "source": [
    "co.close()"
   ]
  },
  {
   "cell_type": "code",
   "execution_count": null,
   "metadata": {},
   "outputs": [],
   "source": []
  }
 ],
 "metadata": {
  "kernelspec": {
   "display_name": "Python 2",
   "language": "python",
   "name": "python2"
  },
  "language_info": {
   "codemirror_mode": {
    "name": "ipython",
    "version": 2
   },
   "file_extension": ".py",
   "mimetype": "text/x-python",
   "name": "python",
   "nbconvert_exporter": "python",
   "pygments_lexer": "ipython2",
   "version": "2.7.11"
  }
 },
 "nbformat": 4,
 "nbformat_minor": 2
}
