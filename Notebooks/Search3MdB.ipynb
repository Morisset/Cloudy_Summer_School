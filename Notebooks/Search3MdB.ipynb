{
 "cells": [
  {
   "cell_type": "code",
   "execution_count": 1,
   "metadata": {},
   "outputs": [],
   "source": [
    "import pandas as pd\n",
    "import pymysql\n",
    "import matplotlib.pyplot as plt\n",
    "import numpy as np\n",
    "%matplotlib inline"
   ]
  },
  {
   "cell_type": "code",
   "execution_count": 2,
   "metadata": {},
   "outputs": [],
   "source": [
    "co = pymysql.connect(host='132.248.3.66', db='3MdB', \n",
    "                     user='OVN_user', passwd='oiii5007') "
   ]
  },
  {
   "cell_type": "code",
   "execution_count": 83,
   "metadata": {},
   "outputs": [],
   "source": [
    "res = pd.read_sql(\"\"\"SELECT \n",
    "OXYGEN as O,\n",
    "NITROGEN as N,\n",
    "logU_mean,\n",
    "Hbfrac,\n",
    "atm1 as teff,\n",
    "lumi,\n",
    "dens,\n",
    "HE_2__4686A / H__1__4861A as HeII,\n",
    "TOTL__7325A/O__3__5007A as RO,\n",
    "(S_II__6731A+S_II__6716A)/S__3__6312A as RS,\n",
    "TOTL__4363A/O__3__5007A as RO3,\n",
    "N__2__5755A/N__2__6584A as RN2,\n",
    "O__3__5007A/H__1__4861A as O3,\n",
    "N__2__6584A/H__1__4861A as N2\n",
    "FROM tab \n",
    "WHERE ref like 'PNe_2014' \n",
    "AND abs(HE_2__4686A/H__1__4861A - 0.7) / 0.7 < 0.3\n",
    "AND abs(TOTL__7325A/O__3__5007A - 0.0095) / 0.0095 < 0.3 \n",
    "AND abs((S_II__6731A+S_II__6716A)/S__3__6312A - 15 ) / 15 < 0.3\n",
    "AND abs(N__2__5755A/N__2__6584A - 0.019) / 0.019 < 0.3\n",
    "AND abs(O__3__5007A/H__1__4861A - 8.5) / 8.5 < 0.3\n",
    "AND abs(N__2__6584A/H__1__4861A - 4.5) / 4.5 < 0.3\n",
    "\"\"\", \n",
    "con=co)\n",
    "#AND abs(TOTL__4363A/O__3__5007A - 0.033) / 0.033 < 0.5\n"
   ]
  },
  {
   "cell_type": "code",
   "execution_count": 84,
   "metadata": {},
   "outputs": [
    {
     "data": {
      "text/plain": [
       "293"
      ]
     },
     "execution_count": 84,
     "metadata": {},
     "output_type": "execute_result"
    }
   ],
   "source": [
    "len(res)"
   ]
  },
  {
   "cell_type": "code",
   "execution_count": 92,
   "metadata": {},
   "outputs": [
    {
     "name": "stdout",
     "output_type": "stream",
     "text": [
      "        O     N  logU_mean  Hbfrac      teff     lumi      dens      HeII  \\\n",
      "288 -3.36 -3.75   -2.48161     1.0  300000.0  4.00000  0.000000  0.742350   \n",
      "154 -3.36 -3.75   -2.48319     1.0  300000.0  4.00000  0.000000  0.742375   \n",
      "218 -3.36 -3.75   -2.48775     1.0  300000.0  4.00000  0.000000  0.742437   \n",
      "162 -3.36 -3.75   -2.88038     1.0  180000.0  3.00000  0.000000  0.677634   \n",
      "74  -3.36 -3.75   -2.50433     1.0  300000.0  4.00000  0.000000  0.742662   \n",
      "289 -3.36 -3.75   -2.48229     1.0  300000.0  4.00000  0.000000  0.744905   \n",
      "155 -3.36 -3.75   -2.48391     1.0  300000.0  4.00000  0.000000  0.744903   \n",
      "219 -3.36 -3.75   -2.48848     1.0  300000.0  4.00000  0.000000  0.745068   \n",
      "192 -3.36 -3.75   -2.49869     1.0  210000.0  4.00000  2.000000  0.693211   \n",
      "291 -3.36 -3.75   -2.86524     1.0  180000.0  3.00000  0.000000  0.680673   \n",
      "27  -3.36 -3.75   -2.95050     1.0  180000.0  2.30103  2.000000  0.644689   \n",
      "181 -3.36 -3.75   -2.53094     1.0  210000.0  4.00000  2.000000  0.689914   \n",
      "75  -3.36 -3.75   -2.50544     1.0  300000.0  4.00000  0.000000  0.745145   \n",
      "131 -3.36 -3.75   -2.48937     1.0  210000.0  4.00000  2.000000  0.691529   \n",
      "245 -3.36 -3.75   -2.48690     1.0  210000.0  4.00000  2.000000  0.690844   \n",
      "185 -3.36 -3.75   -2.90895     1.0  180000.0  3.00000  0.000000  0.680523   \n",
      "137 -3.36 -3.75   -2.86340     1.0  180000.0  3.00000  0.000000  0.681907   \n",
      "290 -3.36 -3.75   -2.48630     1.0  210000.0  4.00000  2.000000  0.690171   \n",
      "91  -3.36 -3.75   -2.55614     1.0  300000.0  4.00000  0.000000  0.742777   \n",
      "2   -3.36 -3.75   -2.96255     1.0  180000.0  2.30103  2.000000  0.642905   \n",
      "80  -3.36 -3.75   -2.88973     1.0  150000.0  2.30103  0.000000  0.614761   \n",
      "28  -3.36 -3.75   -3.00271     1.0  180000.0  2.30103  2.000000  0.641822   \n",
      "89  -3.36 -3.75   -2.55154     1.0  240000.0  4.00000  0.000000  0.735524   \n",
      "59  -3.36 -3.75   -2.61964     1.0  210000.0  4.25042  1.477121  0.655282   \n",
      "77  -3.36 -3.75   -2.35075     1.0  240000.0  4.00000  0.000000  0.746070   \n",
      "189 -3.36 -3.75   -2.35255     1.0  240000.0  4.00000  0.000000  0.746219   \n",
      "29  -3.36 -3.75   -2.61550     1.0  210000.0  4.25042  1.477121  0.654504   \n",
      "12  -3.36 -3.75   -2.61686     1.0  210000.0  4.25042  1.477121  0.654405   \n",
      "216 -3.36 -3.75   -2.35828     1.0  240000.0  4.00000  0.000000  0.746060   \n",
      "39  -3.36 -3.75   -2.62992     1.0  210000.0  4.25042  1.477121  0.654287   \n",
      "\n",
      "           RO         RS       RO3       RN2         O3        N2      khi2  \n",
      "288  0.011353  15.081877  0.015876  0.020650  10.902522  4.049009  1.064590  \n",
      "154  0.011352  15.071735  0.015876  0.020652  10.904073  4.047718  1.065542  \n",
      "218  0.011351  15.044039  0.015879  0.020659  10.909051  4.044507  1.069040  \n",
      "162  0.008469  17.464017  0.010541  0.017772  10.781370  3.711691  1.073666  \n",
      "74   0.011350  14.958425  0.015888  0.020679  10.925599  4.035090  1.081710  \n",
      "289  0.011273  14.946431  0.015876  0.020752  10.965305  3.996995  1.098991  \n",
      "155  0.011273  14.938900  0.015876  0.020752  10.966196  3.996187  1.099688  \n",
      "219  0.011269  14.903173  0.015879  0.020764  10.973650  3.991010  1.105323  \n",
      "192  0.009999  17.375036  0.013061  0.019780  10.932758  3.637986  1.106326  \n",
      "291  0.008345  17.299617  0.010545  0.017782  10.825032  3.671539  1.110583  \n",
      "27   0.010172  19.070554  0.010376  0.017566  10.407510  4.096984  1.114749  \n",
      "181  0.010056  17.590870  0.013053  0.019738  10.905403  3.666385  1.115851  \n",
      "75   0.011270  14.831161  0.015888  0.020778  10.987100  3.983742  1.117115  \n",
      "131  0.010103  17.659749  0.013063  0.019741  10.891544  3.679789  1.117703  \n",
      "245  0.010141  17.771951  0.013063  0.019725  10.875539  3.695400  1.124870  \n",
      "185  0.008302  17.231756  0.010547  0.017782  10.846004  3.658828  1.126186  \n",
      "137  0.008291  17.225787  0.010547  0.017785  10.844401  3.653974  1.128746  \n",
      "290  0.010174  17.869993  0.013063  0.019712  10.861647  3.709086  1.132287  \n",
      "91   0.011395  14.756508  0.015915  0.020728  10.992239  4.033154  1.136421  \n",
      "2    0.010272  19.198616  0.010374  0.017560  10.375338  4.125418  1.146022  \n",
      "80   0.008604  16.529355  0.010208  0.017377  10.856790  3.618406  1.149137  \n",
      "28   0.010324  19.257539  0.010378  0.017561  10.373542  4.145314  1.165964  \n",
      "89   0.010572  17.749990  0.014021  0.020349  11.044126  3.987700  1.177536  \n",
      "59   0.009350  18.417367  0.012300  0.019183  10.793098  3.694843  1.191960  \n",
      "77   0.010071  16.626114  0.014776  0.020448  10.971666  3.491754  1.196638  \n",
      "189  0.010056  16.556953  0.014776  0.020461  10.979357  3.483947  1.198484  \n",
      "29   0.009387  18.519106  0.012300  0.019174  10.778114  3.709093  1.200571  \n",
      "12   0.009392  18.532183  0.012300  0.019172  10.776286  3.711066  1.201717  \n",
      "216  0.010042  16.510614  0.014777  0.020469  10.987553  3.477185  1.201741  \n",
      "39   0.009397  18.547233  0.012300  0.019170  10.774324  3.713354  1.203127  \n"
     ]
    }
   ],
   "source": [
    "def khi2(label, obs, sigma=0.15):\n",
    "    return ((res[label] - obs)/obs/sigma)**2\n",
    "\n",
    "khi2_tot =        ((khi2('HeII', 0.7) + \n",
    "                    khi2('RO', 8/850.) +\n",
    "                    khi2('RS', 15) +\n",
    "#                    khi2('RO3', 28/850) +\n",
    "                    khi2('RN2', 0.019) +\n",
    "                    khi2('O3', 8.5) +\n",
    "                    khi2('N2', 4.5))/6)\n",
    "res['khi2'] = khi2_tot\n",
    "res=res.sort_values('khi2')\n",
    "print(res[0:30])"
   ]
  },
  {
   "cell_type": "code",
   "execution_count": 96,
   "metadata": {},
   "outputs": [
    {
     "data": {
      "image/png": "[encoded data removed]",
      "text/plain": [
       "<matplotlib.figure.Figure at 0x10deb3400>"
      ]
     },
     "metadata": {},
     "output_type": "display_data"
    }
   ],
   "source": [
    "res2 = res[0:30]\n",
    "f, ((ax1, ax2), (ax3, ax4)) = plt.subplots(2,2, figsize=(10,10))\n",
    "ax1.hist(res2['O'])\n",
    "ax1.set_xlabel('log O/H')\n",
    "ax2.hist(res2['teff']/1e5)\n",
    "ax2.set_xlabel('Teff [1e5K]')\n",
    "ax3.hist(res2['lumi'])\n",
    "ax3.set_xlabel('log Luminosity [Lsol]')\n",
    "ax4.hist(res2['logU_mean'])\n",
    "ax4.set_xlabel('log U');"
   ]
  },
  {
   "cell_type": "code",
   "execution_count": null,
   "metadata": {},
   "outputs": [],
   "source": []
  }
 ],
 "metadata": {
  "kernelspec": {
   "display_name": "Python 3",
   "language": "python",
   "name": "python3"
  },
  "language_info": {
   "codemirror_mode": {
    "name": "ipython",
    "version": 3
   },
   "file_extension": ".py",
   "mimetype": "text/x-python",
   "name": "python",
   "nbconvert_exporter": "python",
   "pygments_lexer": "ipython3",
   "version": "3.6.1"
  }
 },
 "nbformat": 4,
 "nbformat_minor": 2
}
