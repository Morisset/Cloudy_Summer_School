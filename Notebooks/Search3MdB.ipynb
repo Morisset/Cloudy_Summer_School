{
 "cells": [
  {
   "cell_type": "code",
   "execution_count": 1,
   "metadata": {},
   "outputs": [],
   "source": [
    "import pandas as pd\n",
    "import pymysql\n",
    "import matplotlib.pyplot as plt\n",
    "import numpy as np\n",
    "%matplotlib inline"
   ]
  },
  {
   "cell_type": "code",
   "execution_count": 2,
   "metadata": {},
   "outputs": [],
   "source": [
    "co = pymysql.connect(host='132.248.3.66', db='3MdB', \n",
    "                     user='OVN_user', passwd='oiii5007') "
   ]
  },
  {
   "cell_type": "code",
   "execution_count": 38,
   "metadata": {},
   "outputs": [],
   "source": [
    "res = pd.read_sql(\"\"\"SELECT \n",
    "OXYGEN as O,\n",
    "NITROGEN as N,\n",
    "logU_mean,\n",
    "Hbfrac,\n",
    "atm1 as teff,\n",
    "lumi,\n",
    "dens,\n",
    "HE_2__4686A,\n",
    "H__1__4861A\n",
    "FROM tab \n",
    "WHERE ref like 'PNe_2014' \n",
    "AND abs(HE_2__4686A/H__1__4861A - 0.7) / 0.7 < 0.25\n",
    "AND abs(TOTL__7325A/O__3__5007A - 8/850.) / (8/850.) < 0.25 \n",
    "AND abs((S_II__6731A+S_II__6716A)/S__3__6312A - 15 ) / 15 < 0.25\n",
    "AND abs(TOTL__4363A/O__3__5007A - 28/850) / (28/850) < 10.4\n",
    "AND abs(O__3__5007A/H__1__4861A - 8.5) / 8.5 < 0.25\n",
    "AND abs(N__2__6584A/H__1__4861A - 4.5) / 4.5 < 0.25\n",
    "\"\"\", \n",
    "con=co)"
   ]
  },
  {
   "cell_type": "code",
   "execution_count": 39,
   "metadata": {},
   "outputs": [
    {
     "data": {
      "text/plain": [
       "25"
      ]
     },
     "execution_count": 39,
     "metadata": {},
     "output_type": "execute_result"
    }
   ],
   "source": [
    "len(res)"
   ]
  },
  {
   "cell_type": "code",
   "execution_count": 31,
   "metadata": {},
   "outputs": [
    {
     "data": {
      "image/png": "[encoded data removed]",
      "text/plain": [
       "<matplotlib.figure.Figure at 0x10d9db908>"
      ]
     },
     "metadata": {},
     "output_type": "display_data"
    }
   ],
   "source": [
    "f, ((ax1, ax2), (ax3, ax4)) = plt.subplots(2,2, figsize=(10,10))\n",
    "ax1.hist(res['O'])\n",
    "ax1.set_xlabel('log O/H')\n",
    "ax2.hist(res['teff']/1e5)\n",
    "ax2.set_xlabel('Teff [1e5K]')\n",
    "ax3.hist(res['lumi'])\n",
    "ax3.set_xlabel('log Luminosity [Lsol]')\n",
    "ax4.hist(res['logU_mean'])\n",
    "ax4.set_xlabel('log U');"
   ]
  },
  {
   "cell_type": "code",
   "execution_count": null,
   "metadata": {},
   "outputs": [],
   "source": []
  }
 ],
 "metadata": {
  "kernelspec": {
   "display_name": "Python 3",
   "language": "python",
   "name": "python3"
  },
  "language_info": {
   "codemirror_mode": {
    "name": "ipython",
    "version": 3
   },
   "file_extension": ".py",
   "mimetype": "text/x-python",
   "name": "python",
   "nbconvert_exporter": "python",
   "pygments_lexer": "ipython3",
   "version": "3.6.1"
  }
 },
 "nbformat": 4,
 "nbformat_minor": 2
}
