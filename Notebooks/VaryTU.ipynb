{
 "cells": [
  {
   "cell_type": "code",
   "execution_count": 1,
   "metadata": {
    "collapsed": true
   },
   "outputs": [],
   "source": [
    "import numpy as np\n",
    "import matplotlib.pyplot as plt\n",
    "import pyCloudy as pc\n",
    "%matplotlib inline"
   ]
  },
  {
   "cell_type": "raw",
   "metadata": {},
   "source": [
    "set save prefix \"varyTU\"\n",
    "#\n",
    "ionization parameter -2 vary\n",
    "grid -3 -1 0.5\n",
    "#\n",
    "# NB - read Hazy 1 Sec 18.5\n",
    "blackbody 5 vary\n",
    "grid 3.5e4 4.5e4 2000linear\n",
    "#\n",
    "hden 3\n",
    "stop zone 1\n",
    "set dr 0\n",
    "save grid \".grd\" no hash last\n",
    "save line list ratio  \".lin\" \"varyTU.dat\" no hash last\n"
   ]
  },
  {
   "cell_type": "code",
   "execution_count": null,
   "metadata": {
    "collapsed": true
   },
   "outputs": [],
   "source": [
    "def make_varyTU(T, U):\n",
    "    Min = pc.CloudyInput('../models/varyTU_{}_{}'.format(T,U))\n",
    "    Min.set_BB(Teff=T, lumi_unit='Ionization parameter', lumi_value=U)\n",
    "    Min.set_cste_density(3)\n",
    "    Min.set_emis_tab(('O  3 5006.84A', \n",
    "                      'H  1 4861.36A'))\n",
    "    Min.set_other('Cosmic Rays Background'))\n",
    "    Min.print_input()  "
   ]
  }
 ],
 "metadata": {
  "kernelspec": {
   "display_name": "Python 3",
   "language": "python",
   "name": "python3"
  },
  "language_info": {
   "codemirror_mode": {
    "name": "ipython",
    "version": 3
   },
   "file_extension": ".py",
   "mimetype": "text/x-python",
   "name": "python",
   "nbconvert_exporter": "python",
   "pygments_lexer": "ipython3",
   "version": "3.6.1"
  }
 },
 "nbformat": 4,
 "nbformat_minor": 0
}
