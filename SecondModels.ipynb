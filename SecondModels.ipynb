{
 "cells": [
  {
   "cell_type": "code",
   "execution_count": 1,
   "metadata": {
    "collapsed": true
   },
   "outputs": [],
   "source": [
    "import numpy as np\n",
    "import matplotlib.pyplot as plt\n",
    "import pyCloudy as pc\n",
    "%matplotlib inline"
   ]
  },
  {
   "cell_type": "code",
   "execution_count": 2,
   "metadata": {
    "collapsed": false
   },
   "outputs": [],
   "source": [
    "Min = pc.CloudyInput('../models/M2_1')\n",
    "Min.set_BB(Teff=30000, lumi_unit='ionization parameter', lumi_value=-2)\n",
    "Min.set_cste_density(0)\n",
    "Min.set_stop(('zone = 1'))\n",
    "Min.set_other(('Cosmic Rays Background', 'set dr 0'))\n",
    "Min.print_input()"
   ]
  },
  {
   "cell_type": "code",
   "execution_count": 3,
   "metadata": {
    "collapsed": true
   },
   "outputs": [],
   "source": [
    "Min.model_name = '../models/M2_2'\n",
    "Min.set_star()\n",
    "Min.set_BB(Teff=50000, lumi_unit='ionization parameter', lumi_value=-2)\n",
    "Min.print_input()"
   ]
  },
  {
   "cell_type": "code",
   "execution_count": 4,
   "metadata": {
    "collapsed": true
   },
   "outputs": [],
   "source": [
    "Min.model_name = '../models/M2_3'\n",
    "Min.set_star()\n",
    "Min.set_BB(Teff=100000, lumi_unit='ionization parameter', lumi_value=-2)\n",
    "Min.print_input()"
   ]
  },
  {
   "cell_type": "code",
   "execution_count": 5,
   "metadata": {
    "collapsed": true
   },
   "outputs": [],
   "source": [
    "Min.model_name = '../models/M2_4'\n",
    "Min.set_star()\n",
    "Min.set_BB(Teff=160000, lumi_unit='ionization parameter', lumi_value=-2)\n",
    "Min.print_input()"
   ]
  },
  {
   "cell_type": "code",
   "execution_count": 6,
   "metadata": {
    "collapsed": true
   },
   "outputs": [],
   "source": [
    "Min.model_name = '../models/M2_5'\n",
    "Min.set_star()\n",
    "Min.set_star(SED = 'table power law', SED_params = '', lumi_unit='ionization parameter', lumi_value=-2)\n",
    "Min.print_input()"
   ]
  },
  {
   "cell_type": "code",
   "execution_count": 7,
   "metadata": {
    "collapsed": true
   },
   "outputs": [],
   "source": [
    "Min.model_name = '../models/M2_6'\n",
    "Min.set_star()\n",
    "Min.set_star(SED = 'table AGN', SED_params = '', lumi_unit='ionization parameter', lumi_value=-2)\n",
    "Min.print_input()"
   ]
  },
  {
   "cell_type": "code",
   "execution_count": 8,
   "metadata": {
    "collapsed": true
   },
   "outputs": [],
   "source": [
    "pc.run_cloudy(dir_='../models', n_proc=6, use_make=True, model_name='M2_')"
   ]
  },
  {
   "cell_type": "code",
   "execution_count": 9,
   "metadata": {
    "collapsed": true
   },
   "outputs": [],
   "source": [
    "Ms = pc.load_models('../models/M2_', read_emis=False)"
   ]
  },
  {
   "cell_type": "code",
   "execution_count": 10,
   "metadata": {
    "collapsed": false
   },
   "outputs": [
    {
     "data": {
      "text/plain": [
       "{'###First': ' ####  1  Te:5.638E+03 Hden:1.000E+00 Ne:1.100E+00 R:1.000E+30 R-R0:5.000E-01 dR:1.000E+00 NTR: 13 Htot:2.904E-24 T912: 3.72e-21###\\n',\n",
       " 'Blackbody': '                       * Blackbody 30000.000000                                                          *\\n',\n",
       " 'Chem1': '        H :  0.0000  He: -1.0000  Li: -8.6904  Be:-10.5800  B : -9.2097  C : -3.6108  N : -4.0701  O : -3.3098  F : -7.5200\\n',\n",
       " 'Chem2': '        Ne: -4.0000  Na: -5.6696  Mg: -4.4597  Al: -5.5302  Si: -4.4597  P : -6.4949  S : -4.7352  Cl: -6.7190  Ar: -5.6003\\n',\n",
       " 'Chem3': '        K : -6.8794  Ca: -5.6402  Sc: -8.8297  Ti: -6.9788  V : -8.0000  Cr: -6.3298  Mn: -6.5406  Fe: -4.5498  Co: -7.0799\\n',\n",
       " 'Chem4': '                                               Ni: -5.7496  Cu: -7.7905  Zn: -7.4001\\n',\n",
       " 'Cloudy ends': ' Cloudy ends: 1 zone, 1 iteration, 5 cautions. (single thread) ExecTime(s) 11.06\\n',\n",
       " 'SED1': '           I(nu>1ryd):  -2.0851   Average nu:1.258E+00   I( X-ray):   0.0000   I(BalC):  -1.5582     Phi(BalmrC):   9.3732\\n',\n",
       " 'SED2': '           phi(1.0-1.8): 8.4593   phi(1.8-4.0):  7.073   phi(4.0-20):  2.702   phi(20--):  0.000     Ion pht flx:2.998E+08\\n',\n",
       " 'SED3': '           I(gam ray):   0.0000   phi(gam r):   0.0000   I(Infred):  -2.5749   Alf(ox):   0.0000     Total inten:  -1.4141\\n',\n",
       " 'SED4': '           U(1.0----):1.000E-02   U(4.0----):1.680E-08   T(En-Den):3.610E+00   T(Comp):2.874E+04     nuJnu(912A):2.371E-02\\n',\n",
       " 'SED5': '           Occ(FarIR):1.309E-08   Occ(H n=6):1.335E-15   Occ(1Ryd):1.094E-18   Occ(4R):1.461E-25     Occ (Nu-hi):0.000E+00\\n',\n",
       " 'SED6': '           Tbr(FarIR):6.293E-12   Tbr(H n=6):5.845E-12   Tbr(1Ryd):1.727E-13   Tbr(4R):9.243E-20     Tbr (Nu-hi):0.000E+00\\n',\n",
       " 'SED7': '  \\n',\n",
       " 'hden': '                       * hden = 0.000                                                                    *\\n',\n",
       " 'iterate': ' C-I must iterate when save continuum output is done.\\n',\n",
       " 'stop': '   Calculation stopped because NZONE reached. Iteration 1 of 1\\n'}"
      ]
     },
     "execution_count": 10,
     "metadata": {},
     "output_type": "execute_result"
    }
   ],
   "source": [
    "from pyCloudy.utils.misc import sextract\n",
    "M = Ms[0]\n",
    "M.out"
   ]
  },
  {
   "cell_type": "code",
   "execution_count": 11,
   "metadata": {
    "collapsed": false
   },
   "outputs": [],
   "source": [
    "mean_E = [np.float(sextract(M.out['SED1'], 'Average nu:', 'I(')) for M in Ms]\n",
    "T0 = [M.T0 for M in Ms]"
   ]
  },
  {
   "cell_type": "code",
   "execution_count": 16,
   "metadata": {
    "collapsed": false
   },
   "outputs": [
    {
     "data": {
      "text/plain": [
       "<matplotlib.text.Text at 0x11ca238d0>"
      ]
     },
     "execution_count": 16,
     "metadata": {},
     "output_type": "execute_result"
    },
    {
     "data": {
      "image/png": "[encoded data removed]",
      "text/plain": [
       "<matplotlib.figure.Figure at 0x11cb2c668>"
      ]
     },
     "metadata": {},
     "output_type": "display_data"
    }
   ],
   "source": [
    "f, ax = plt.subplots(figsize=(10,8))\n",
    "ax.scatter(mean_E, T0)\n",
    "ax.set_xlabel('<hv>')\n",
    "ax.set_ylabel('Te')"
   ]
  }
 ],
 "metadata": {
  "kernelspec": {
   "display_name": "Python 3",
   "language": "python",
   "name": "python3"
  },
  "language_info": {
   "codemirror_mode": {
    "name": "ipython",
    "version": 3
   },
   "file_extension": ".py",
   "mimetype": "text/x-python",
   "name": "python",
   "nbconvert_exporter": "python",
   "pygments_lexer": "ipython3",
   "version": "3.6.1"
  }
 },
 "nbformat": 4,
 "nbformat_minor": 0
}
